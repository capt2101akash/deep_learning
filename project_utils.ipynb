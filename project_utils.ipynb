{
 "cells": [
  {
   "cell_type": "code",
   "execution_count": 2,
   "metadata": {},
   "outputs": [],
   "source": [
    "import h5py\n",
    "import numpy as np\n",
    "import os\n",
    "import matplotlib.pyplot as plt\n",
    "import time\n",
    "from PIL import Image"
   ]
  },
  {
   "cell_type": "code",
   "execution_count": 10,
   "metadata": {},
   "outputs": [
    {
     "name": "stdout",
     "output_type": "stream",
     "text": [
      "adenocarcinoma\n",
      "large.cell.carcinoma\n",
      "normal\n",
      "squamous.cell.carcinoma\n",
      "adenocarcinoma_left.lower.lobe_T2_N0_M0_Ib\n",
      "large.cell.carcinoma_left.hilum_T2_N2_M0_IIIa\n",
      "normal\n",
      "squamous.cell.carcinoma_left.hilum_T1_N2_M0_IIIa\n",
      "adenocarcinoma_left.lower.lobe_T2_N0_M0_Ib\n",
      "large.cell.carcinoma_left.hilum_T2_N2_M0_IIIa\n",
      "normal\n",
      "squamous.cell.carcinoma_left.hilum_T1_N2_M0_IIIa\n"
     ]
    }
   ],
   "source": [
    "data_dir = './Data'\n",
    "total_np_x = list()\n",
    "total_np_y = list()\n",
    "total_np_log_x = list()\n",
    "save_path = f'./Data/full_data.h5'\n",
    "for dir in os.listdir(data_dir):\n",
    "    count = 0\n",
    "    for file in os.walk(os.path.join(data_dir, dir)):\n",
    "        if len(file[2]) > 0:\n",
    "            print(file[0].split('\\\\')[-1])"
   ]
  },
  {
   "cell_type": "code",
   "execution_count": 175,
   "metadata": {},
   "outputs": [],
   "source": [
    "def convert_to_h5():\n",
    "     data_dir = './Data'\n",
    "     total_np_x = list()\n",
    "     total_np_y = list()\n",
    "     total_np_log_x = list()\n",
    "     save_path = f'./Data/full_data.h5'\n",
    "     for dir in os.listdir(data_dir):\n",
    "          count = 0\n",
    "          for file in os.walk(os.path.join(data_dir, dir)):\n",
    "               # print(file[2])\n",
    "               if len(file[2]) > 0:\n",
    "                    print(file[0], len(file[2]))\n",
    "                    for img_file in file[2]:\n",
    "                         img_path = os.path.join(file[0], img_file)\n",
    "                         img_f = Image.open(img_path)\n",
    "                         img_f = img_f.convert('RGB')\n",
    "                         orig_img = np.asarray(img_f)\n",
    "                         resized = Image.fromarray(orig_img).resize(size=(60, 60))\n",
    "                         resized_array = np.asarray(resized)\n",
    "\n",
    "                         resized_log = Image.fromarray(resized_array).resize(size = (2, 2))\n",
    "                         resized_log_squeezed = np.asarray(resized_log)\n",
    "                         try:\n",
    "                              resized_squeezed = resized_array.reshape(60*60*resized_array.shape[-1], 1)\n",
    "                              # print(f\"{resized_array.shape},  Normal - {resized_squeezed.shape}\")\n",
    "                              resized_log_squeezed = resized_log_squeezed.reshape(2*2*resized_array.shape[-1], 1)\n",
    "                         except Exception as e:\n",
    "                              print(e)\n",
    "                         \n",
    "                         # print(resized_squeezed.shape)\n",
    "                         total_np_x.append(resized_squeezed)\n",
    "                         total_np_log_x.append(resized_log_squeezed)\n",
    "                         cancer_type = file[0].split('\\\\')[-1]\n",
    "                         if 'adeno' in cancer_type or 'large' in cancer_type or 'squamous' in cancer_type:\n",
    "                              total_np_y.append(1)\n",
    "                         else:\n",
    "                              total_np_y.append(0)\n",
    "               \n",
    "                         count += 1\n",
    "               if count % 100:\n",
    "                    print(count)\n",
    "               # break\n",
    "          # break\n",
    "\n",
    "     total_np_x = np.asarray(np.squeeze(total_np_x, axis = 2))\n",
    "     total_np_y = np.asarray(total_np_y)\n",
    "     total_np_log_x = np.asarray(np.squeeze(total_np_log_x, axis = 2))\n",
    "     # print(total_np_log_x.shape, total_np_x.shape, total_np_y.shape)\n",
    "     with h5py.File(save_path, 'a')  as hf:\n",
    "          grp_x = hf.create_dataset('data_x', data = total_np_x)\n",
    "          grp_y = hf.create_dataset('data_y', data = total_np_y)\n",
    "          grp_x_log = hf.create_dataset('data_x_log', data = total_np_log_x)\n",
    "\n",
    "     \n",
    "     # print('hdf5 file size: %d bytes'%os.path.getsize(save_path))"
   ]
  },
  {
   "cell_type": "code",
   "execution_count": 185,
   "metadata": {},
   "outputs": [],
   "source": [
    "from sklearn.model_selection import train_test_split\n",
    "def load_data():\n",
    "    with h5py.File('./Data/full_data.h5', \"r\") as f:\n",
    "        X = np.array(f[\"data_x\"][:])\n",
    "        Y = np.array(f[\"data_y\"][:])\n",
    "    train_x, test_x, train_y, test_y = train_test_split(X, Y, test_size=0.2, train_size=0.8, stratify=Y)    \n",
    "    \n",
    "    train_x, valid_x, train_y, valid_y = train_test_split(train_x, train_y, test_size=0.25, train_size=0.75, stratify=train_y)  \n",
    "\n",
    "    print(np.unique(valid_y, return_counts = True))\n",
    "    # return train_x, train_y, valid_x, valid_y, test_x, test_y\n",
    "    # assert train_x.shape == (6000, 10800, 1)\n",
    "    # assert test_x.shape == (2000, 10800, 1)\n",
    "    # assert valid_x.shape == (2000, 10800, 1)\n",
    "\n",
    "\n",
    "\n"
   ]
  },
  {
   "cell_type": "code",
   "execution_count": 186,
   "metadata": {},
   "outputs": [
    {
     "name": "stdout",
     "output_type": "stream",
     "text": [
      "(array([0, 1]), array([ 43, 157], dtype=int64))\n"
     ]
    }
   ],
   "source": [
    "load_data()"
   ]
  },
  {
   "cell_type": "code",
   "execution_count": 176,
   "metadata": {},
   "outputs": [
    {
     "name": "stdout",
     "output_type": "stream",
     "text": [
      "./Data\\test\\adenocarcinoma 120\n",
      "120\n",
      "./Data\\test\\large.cell.carcinoma 51\n",
      "171\n",
      "./Data\\test\\normal 54\n",
      "225\n",
      "./Data\\test\\squamous.cell.carcinoma 90\n",
      "315\n",
      "./Data\\train\\adenocarcinoma_left.lower.lobe_T2_N0_M0_Ib 195\n",
      "195\n",
      "./Data\\train\\large.cell.carcinoma_left.hilum_T2_N2_M0_IIIa 115\n",
      "310\n",
      "./Data\\train\\normal 148\n",
      "458\n",
      "./Data\\train\\squamous.cell.carcinoma_left.hilum_T1_N2_M0_IIIa 155\n",
      "613\n",
      "./Data\\valid\\adenocarcinoma_left.lower.lobe_T2_N0_M0_Ib 23\n",
      "23\n",
      "./Data\\valid\\large.cell.carcinoma_left.hilum_T2_N2_M0_IIIa 21\n",
      "44\n",
      "./Data\\valid\\normal 13\n",
      "57\n",
      "./Data\\valid\\squamous.cell.carcinoma_left.hilum_T1_N2_M0_IIIa 15\n",
      "72\n"
     ]
    }
   ],
   "source": [
    "convert_to_h5()"
   ]
  },
  {
   "cell_type": "code",
   "execution_count": null,
   "metadata": {},
   "outputs": [],
   "source": []
  }
 ],
 "metadata": {
  "kernelspec": {
   "display_name": "dl",
   "language": "python",
   "name": "dl"
  },
  "language_info": {
   "codemirror_mode": {
    "name": "ipython",
    "version": 3
   },
   "file_extension": ".py",
   "mimetype": "text/x-python",
   "name": "python",
   "nbconvert_exporter": "python",
   "pygments_lexer": "ipython3",
   "version": "3.9.6"
  },
  "orig_nbformat": 4
 },
 "nbformat": 4,
 "nbformat_minor": 2
}
